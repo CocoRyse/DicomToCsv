{
  "nbformat": 4,
  "nbformat_minor": 0,
  "metadata": {
    "colab": {
      "name": "МКМ.ipynb",
      "provenance": [],
      "collapsed_sections": [],
      "authorship_tag": "ABX9TyNzGv58W/l79rz0WYY7Wnob",
      "include_colab_link": true
    },
    "kernelspec": {
      "name": "python3",
      "display_name": "Python 3"
    },
    "language_info": {
      "name": "python"
    }
  },
  "cells": [
    {
      "cell_type": "markdown",
      "metadata": {
        "id": "view-in-github",
        "colab_type": "text"
      },
      "source": [
        "<a href=\"https://colab.research.google.com/github/CocoRyse/DicomToCsv/blob/main/%D0%9C%D0%9A%D0%9C.ipynb\" target=\"_parent\"><img src=\"https://colab.research.google.com/assets/colab-badge.svg\" alt=\"Open In Colab\"/></a>"
      ]
    },
    {
      "cell_type": "code",
      "metadata": {
        "colab": {
          "base_uri": "https://localhost:8080/"
        },
        "id": "qaedX2OwotR6",
        "outputId": "12e8890d-1d6c-414b-9690-1955b47a7415"
      },
      "source": [
        "# Загрузка библиотек в ноутбук \n",
        "!pip install pydicom"
      ],
      "execution_count": null,
      "outputs": [
        {
          "output_type": "stream",
          "name": "stdout",
          "text": [
            "Requirement already satisfied: pydicom in /usr/local/lib/python3.7/dist-packages (2.2.2)\n"
          ]
        }
      ]
    },
    {
      "cell_type": "code",
      "metadata": {
        "id": "s2ts2oncnCW3"
      },
      "source": [
        "# Стандартные бибилиотеки\n",
        "import os\n",
        "import pydicom # Библиотека для чтения DICOM файлов\n",
        "from collections import OrderedDict\n",
        "import csv\n",
        "\n",
        "# Визуализация (понадобится позже, пока я не разобрался как png в csv хранить)\n",
        "import matplotlib.pyplot as plt\n",
        "import matplotlib.image as mpimg"
      ],
      "execution_count": null,
      "outputs": []
    },
    {
      "cell_type": "code",
      "metadata": {
        "colab": {
          "base_uri": "https://localhost:8080/"
        },
        "id": "rAZdWcyBoWql",
        "outputId": "7c659776-5964-40b4-8a80-c87b8979fe62"
      },
      "source": [
        "print('Пример всех данных из заданного DICOM файла:\\n')\n",
        "# тут просто путь к DICOM файлу \n",
        "example_dicom = pydicom.dcmread('/content/CR000000.dcm')\n",
        "print(example_dicom)"
      ],
      "execution_count": null,
      "outputs": [
        {
          "output_type": "stream",
          "name": "stdout",
          "text": [
            "Пример всех данных из заданного DICOM файла:\n",
            "\n",
            "Dataset.file_meta -------------------------------\n",
            "(0002, 0000) File Meta Information Group Length  UL: 200\n",
            "(0002, 0001) File Meta Information Version       OB: b'\\x00\\x01'\n",
            "(0002, 0002) Media Storage SOP Class UID         UI: Computed Radiography Image Storage\n",
            "(0002, 0003) Media Storage SOP Instance UID      UI: 1.2.276.0.7230010.3.1.4.186081398.5076.1564393902.11925\n",
            "(0002, 0010) Transfer Syntax UID                 UI: Explicit VR Little Endian\n",
            "(0002, 0012) Implementation Class UID            UI: 1.2.276.0.7230010.3.0.3.6.4\n",
            "(0002, 0013) Implementation Version Name         SH: 'OFFIS_DCMTK_364'\n",
            "-------------------------------------------------\n",
            "(0008, 0005) Specific Character Set              CS: 'ISO_IR 144'\n",
            "(0008, 0008) Image Type                          CS: ['DERIVED', 'PRIMARY']\n",
            "(0008, 0013) Instance Creation Time              TM: ''\n",
            "(0008, 0016) SOP Class UID                       UI: Computed Radiography Image Storage\n",
            "(0008, 0018) SOP Instance UID                    UI: 1.2.276.0.7230010.3.1.4.186081398.5076.1564393902.11925\n",
            "(0008, 0030) Study Time                          TM: ''\n",
            "(0008, 0033) Content Time                        TM: ''\n",
            "(0008, 0050) Accession Number                    SH: ''\n",
            "(0008, 0054) Retrieve AE Title                   AE: '5A5A'\n",
            "(0008, 0055) Station AE Title                    AE: '5A5A'\n",
            "(0008, 0060) Modality                            CS: 'CR'\n",
            "(0008, 0070) Manufacturer                        LO: 'JV HELPIC (MOSCOW)'\n",
            "(0008, 1090) Manufacturer's Model Name           LO: ''\n",
            "(0008, 9215)  Derivation Code Sequence  1 item(s) ---- \n",
            "   (0008, 0100) Code Value                          SH: '121327'\n",
            "   (0008, 0102) Coding Scheme Designator            SH: 'DCM'\n",
            "   (0008, 0104) Code Meaning                        LO: 'Full fidelity image'\n",
            "   ---------\n",
            "(0010, 0010) Patient's Name                      PN: 'Anonymized22'\n",
            "(0010, 0020) Patient ID                          LO: '5587986f-1b97-4ee2-ac1f-d421e20eb4fe'\n",
            "(0010, 0040) Patient's Sex                       CS: ''\n",
            "(0010, 1022) Patient's Body Mass Index           DS: 'TEXT'\n",
            "(0012, 0062) Patient Identity Removed            CS: 'YES'\n",
            "(0012, 0063) De-identification Method            LO: 'Orthanc 1.5.7 - PS 3.15-2017c Table E.1-1 Basic Profile'\n",
            "(0018, 0015) Body Part Examined                  CS: 'CHEST'\n",
            "(0018, 0022) Scan Options                        CS: ''\n",
            "(0018, 0060) KVP                                 DS: None\n",
            "(0018, 1020) Software Versions                   LO: ''\n",
            "(0018, 1110) Distance Source to Detector         DS: None\n",
            "(0018, 1150) Exposure Time                       IS: None\n",
            "(0018, 1151) X-Ray Tube Current                  IS: None\n",
            "(0018, 1152) Exposure                            IS: None\n",
            "(0018, 1160) Filter Type                         SH: ''\n",
            "(0018, 1190) Focal Spot(s)                       DS: '2.0'\n",
            "(0018, 1260) Plate Type                          SH: ''\n",
            "(0018, 1700) Collimator Shape                    CS: 'RECTANGULAR'\n",
            "(0018, 5101) View Position                       CS: ''\n",
            "(0018, 7004) Detector Type                       CS: ''\n",
            "(0020, 000d) Study Instance UID                  UI: 1.2.276.0.7230010.3.1.2.186081398.5076.1564393902.11923\n",
            "(0020, 000e) Series Instance UID                 UI: 1.2.276.0.7230010.3.1.3.186081398.5076.1564393902.11924\n",
            "(0020, 0010) Study ID                            SH: ''\n",
            "(0020, 0011) Series Number                       IS: '1'\n",
            "(0020, 0013) Instance Number                     IS: '1'\n",
            "(0020, 0020) Patient Orientation                 CS: ''\n",
            "(0028, 0002) Samples per Pixel                   US: 1\n",
            "(0028, 0004) Photometric Interpretation          CS: 'MONOCHROME1'\n",
            "(0028, 0010) Rows                                US: 950\n",
            "(0028, 0011) Columns                             US: 988\n",
            "(0028, 0030) Pixel Spacing                       DS: [0.385000, 0.385000]\n",
            "(0028, 0100) Bits Allocated                      US: 16\n",
            "(0028, 0101) Bits Stored                         US: 16\n",
            "(0028, 0102) High Bit                            US: 15\n",
            "(0028, 0103) Pixel Representation                US: 0\n",
            "(0028, 1050) Window Center                       DS: '5341.0'\n",
            "(0028, 1051) Window Width                        DS: '7526.0'\n",
            "(7fe0, 0010) Pixel Data                          OB: Array of 1877200 elements\n"
          ]
        }
      ]
    },
    {
      "cell_type": "code",
      "metadata": {
        "id": "y33CDDkHpd57"
      },
      "source": [
        "def get_tags_in_files(dicom_file_path, tag_file_path):\n",
        "    \"\"\"\n",
        "    Для файла с .dcm расширением находит все теги, а затем сохраняет их в качестве csv файла\n",
        "    get_tags_in_files iterates over a directory, finds dicom files with\n",
        "    a .dcm extension, and finds all unique dicom tag instances. it then\n",
        "    writes the tags out as a csv file.\n",
        "    Args:\n",
        "        dicom_path (str): Путь до DICOM\n",
        "        tag_file_path (str): Путь до .csv с результатом\n",
        "    Returns:\n",
        "        dict: Словарь с выгруженными тегами\n",
        "    \"\"\"\n",
        "    # Создаём директорию для вывода\n",
        "    if not os.path.exists(os.path.dirname(tag_file_path)):\n",
        "        os.makedirs(os.path.dirname(tag_file_path))\n",
        "\n",
        "    # Получаем теги\n",
        "    tags_in_files = {}\n",
        "    dicom_file = pydicom.read_file(dicom_file_path)\n",
        "    for item in dicom_file:\n",
        "\n",
        "        if item.keyword not in tags_in_files:\n",
        "            group = \"0x%04x\" % item.tag.group\n",
        "            element = \"0x%04x\" % item.tag.element\n",
        "            tags_in_files[item.keyword] = group, element, item.keyword, item.name\n",
        "\n",
        "    # Сортируем теги\n",
        "    tags_in_files = OrderedDict(\n",
        "        sorted(tags_in_files.items(), key=(lambda k: (k[1][0], k[1][1])))\n",
        "    )\n",
        "\n",
        "    # Записываем теги в .csv файл\n",
        "    with open(tag_file_path, \"w\") as f:\n",
        "        writer = csv.writer(f)\n",
        "        writer.writerow([\"group\", \"element\", \"keyword\", \"name\"])\n",
        "        for item in tags_in_files:\n",
        "            writer.writerow(tags_in_files[item])\n",
        "\n",
        "    return tags_in_files"
      ],
      "execution_count": null,
      "outputs": []
    },
    {
      "cell_type": "code",
      "metadata": {
        "colab": {
          "base_uri": "https://localhost:8080/"
        },
        "id": "6gokfgc0r389",
        "outputId": "ed168756-238a-48a8-8a65-2561dcb797e8"
      },
      "source": [
        "get_tags_in_files('/content/CR000000.dcm', '/content/result.csv')"
      ],
      "execution_count": null,
      "outputs": [
        {
          "output_type": "execute_result",
          "data": {
            "text/plain": [
              "OrderedDict([('SpecificCharacterSet',\n",
              "              ('0x0008',\n",
              "               '0x0005',\n",
              "               'SpecificCharacterSet',\n",
              "               'Specific Character Set')),\n",
              "             ('ImageType', ('0x0008', '0x0008', 'ImageType', 'Image Type')),\n",
              "             ('InstanceCreationTime',\n",
              "              ('0x0008',\n",
              "               '0x0013',\n",
              "               'InstanceCreationTime',\n",
              "               'Instance Creation Time')),\n",
              "             ('SOPClassUID',\n",
              "              ('0x0008', '0x0016', 'SOPClassUID', 'SOP Class UID')),\n",
              "             ('SOPInstanceUID',\n",
              "              ('0x0008', '0x0018', 'SOPInstanceUID', 'SOP Instance UID')),\n",
              "             ('StudyTime', ('0x0008', '0x0030', 'StudyTime', 'Study Time')),\n",
              "             ('ContentTime',\n",
              "              ('0x0008', '0x0033', 'ContentTime', 'Content Time')),\n",
              "             ('AccessionNumber',\n",
              "              ('0x0008', '0x0050', 'AccessionNumber', 'Accession Number')),\n",
              "             ('RetrieveAETitle',\n",
              "              ('0x0008', '0x0054', 'RetrieveAETitle', 'Retrieve AE Title')),\n",
              "             ('StationAETitle',\n",
              "              ('0x0008', '0x0055', 'StationAETitle', 'Station AE Title')),\n",
              "             ('Modality', ('0x0008', '0x0060', 'Modality', 'Modality')),\n",
              "             ('Manufacturer',\n",
              "              ('0x0008', '0x0070', 'Manufacturer', 'Manufacturer')),\n",
              "             ('ManufacturerModelName',\n",
              "              ('0x0008',\n",
              "               '0x1090',\n",
              "               'ManufacturerModelName',\n",
              "               \"Manufacturer's Model Name\")),\n",
              "             ('DerivationCodeSequence',\n",
              "              ('0x0008',\n",
              "               '0x9215',\n",
              "               'DerivationCodeSequence',\n",
              "               'Derivation Code Sequence')),\n",
              "             ('PatientName',\n",
              "              ('0x0010', '0x0010', 'PatientName', \"Patient's Name\")),\n",
              "             ('PatientID', ('0x0010', '0x0020', 'PatientID', 'Patient ID')),\n",
              "             ('PatientSex',\n",
              "              ('0x0010', '0x0040', 'PatientSex', \"Patient's Sex\")),\n",
              "             ('PatientBodyMassIndex',\n",
              "              ('0x0010',\n",
              "               '0x1022',\n",
              "               'PatientBodyMassIndex',\n",
              "               \"Patient's Body Mass Index\")),\n",
              "             ('PatientIdentityRemoved',\n",
              "              ('0x0012',\n",
              "               '0x0062',\n",
              "               'PatientIdentityRemoved',\n",
              "               'Patient Identity Removed')),\n",
              "             ('DeidentificationMethod',\n",
              "              ('0x0012',\n",
              "               '0x0063',\n",
              "               'DeidentificationMethod',\n",
              "               'De-identification Method')),\n",
              "             ('BodyPartExamined',\n",
              "              ('0x0018', '0x0015', 'BodyPartExamined', 'Body Part Examined')),\n",
              "             ('ScanOptions',\n",
              "              ('0x0018', '0x0022', 'ScanOptions', 'Scan Options')),\n",
              "             ('KVP', ('0x0018', '0x0060', 'KVP', 'KVP')),\n",
              "             ('SoftwareVersions',\n",
              "              ('0x0018', '0x1020', 'SoftwareVersions', 'Software Versions')),\n",
              "             ('DistanceSourceToDetector',\n",
              "              ('0x0018',\n",
              "               '0x1110',\n",
              "               'DistanceSourceToDetector',\n",
              "               'Distance Source to Detector')),\n",
              "             ('ExposureTime',\n",
              "              ('0x0018', '0x1150', 'ExposureTime', 'Exposure Time')),\n",
              "             ('XRayTubeCurrent',\n",
              "              ('0x0018', '0x1151', 'XRayTubeCurrent', 'X-Ray Tube Current')),\n",
              "             ('Exposure', ('0x0018', '0x1152', 'Exposure', 'Exposure')),\n",
              "             ('FilterType', ('0x0018', '0x1160', 'FilterType', 'Filter Type')),\n",
              "             ('FocalSpots',\n",
              "              ('0x0018', '0x1190', 'FocalSpots', 'Focal Spot(s)')),\n",
              "             ('PlateType', ('0x0018', '0x1260', 'PlateType', 'Plate Type')),\n",
              "             ('CollimatorShape',\n",
              "              ('0x0018', '0x1700', 'CollimatorShape', 'Collimator Shape')),\n",
              "             ('ViewPosition',\n",
              "              ('0x0018', '0x5101', 'ViewPosition', 'View Position')),\n",
              "             ('DetectorType',\n",
              "              ('0x0018', '0x7004', 'DetectorType', 'Detector Type')),\n",
              "             ('StudyInstanceUID',\n",
              "              ('0x0020', '0x000d', 'StudyInstanceUID', 'Study Instance UID')),\n",
              "             ('SeriesInstanceUID',\n",
              "              ('0x0020',\n",
              "               '0x000e',\n",
              "               'SeriesInstanceUID',\n",
              "               'Series Instance UID')),\n",
              "             ('StudyID', ('0x0020', '0x0010', 'StudyID', 'Study ID')),\n",
              "             ('SeriesNumber',\n",
              "              ('0x0020', '0x0011', 'SeriesNumber', 'Series Number')),\n",
              "             ('InstanceNumber',\n",
              "              ('0x0020', '0x0013', 'InstanceNumber', 'Instance Number')),\n",
              "             ('PatientOrientation',\n",
              "              ('0x0020',\n",
              "               '0x0020',\n",
              "               'PatientOrientation',\n",
              "               'Patient Orientation')),\n",
              "             ('SamplesPerPixel',\n",
              "              ('0x0028', '0x0002', 'SamplesPerPixel', 'Samples per Pixel')),\n",
              "             ('PhotometricInterpretation',\n",
              "              ('0x0028',\n",
              "               '0x0004',\n",
              "               'PhotometricInterpretation',\n",
              "               'Photometric Interpretation')),\n",
              "             ('Rows', ('0x0028', '0x0010', 'Rows', 'Rows')),\n",
              "             ('Columns', ('0x0028', '0x0011', 'Columns', 'Columns')),\n",
              "             ('PixelSpacing',\n",
              "              ('0x0028', '0x0030', 'PixelSpacing', 'Pixel Spacing')),\n",
              "             ('BitsAllocated',\n",
              "              ('0x0028', '0x0100', 'BitsAllocated', 'Bits Allocated')),\n",
              "             ('BitsStored', ('0x0028', '0x0101', 'BitsStored', 'Bits Stored')),\n",
              "             ('HighBit', ('0x0028', '0x0102', 'HighBit', 'High Bit')),\n",
              "             ('PixelRepresentation',\n",
              "              ('0x0028',\n",
              "               '0x0103',\n",
              "               'PixelRepresentation',\n",
              "               'Pixel Representation')),\n",
              "             ('WindowCenter',\n",
              "              ('0x0028', '0x1050', 'WindowCenter', 'Window Center')),\n",
              "             ('WindowWidth',\n",
              "              ('0x0028', '0x1051', 'WindowWidth', 'Window Width')),\n",
              "             ('PixelData', ('0x7fe0', '0x0010', 'PixelData', 'Pixel Data'))])"
            ]
          },
          "metadata": {},
          "execution_count": 19
        }
      ]
    }
  ]
}