{
  "nbformat": 4,
  "nbformat_minor": 0,
  "metadata": {
    "colab": {
      "name": "МКМ.ipynb",
      "provenance": [],
      "collapsed_sections": [],
      "authorship_tag": "ABX9TyPUqGm3QS8h7wXxa32P1rdK",
      "include_colab_link": true
    },
    "kernelspec": {
      "name": "python3",
      "display_name": "Python 3"
    },
    "language_info": {
      "name": "python"
    }
  },
  "cells": [
    {
      "cell_type": "markdown",
      "metadata": {
        "id": "view-in-github",
        "colab_type": "text"
      },
      "source": [
        "<a href=\"https://colab.research.google.com/github/CocoRyse/DicomToCsv/blob/main/%D0%9C%D0%9A%D0%9C.ipynb\" target=\"_parent\"><img src=\"https://colab.research.google.com/assets/colab-badge.svg\" alt=\"Open In Colab\"/></a>"
      ]
    },
    {
      "cell_type": "markdown",
      "source": [
        "# Необходимые процедуры и функции"
      ],
      "metadata": {
        "id": "Xkw_Ddf-RCoZ"
      }
    },
    {
      "cell_type": "code",
      "metadata": {
        "colab": {
          "base_uri": "https://localhost:8080/"
        },
        "id": "qaedX2OwotR6",
        "outputId": "8b0f8caf-3e40-4fe3-f6d3-30fe4c41d49e"
      },
      "source": [
        "# Загрузка библиотек в ноутбук \n",
        "!pip install pydicom\n"
      ],
      "execution_count": 92,
      "outputs": [
        {
          "output_type": "stream",
          "name": "stdout",
          "text": [
            "Requirement already satisfied: pydicom in /usr/local/lib/python3.7/dist-packages (2.2.2)\n"
          ]
        }
      ]
    },
    {
      "cell_type": "code",
      "metadata": {
        "id": "s2ts2oncnCW3"
      },
      "source": [
        "# Стандартные бибилиотеки\n",
        "import os\n",
        "import pydicom # Библиотека для чтения DICOM файлов\n",
        "from collections import OrderedDict\n",
        "import csv\n",
        "\n",
        "# Визуализация (понадобится позже, пока я не разобрался как png в csv хранить)\n",
        "import matplotlib.pyplot as plt\n",
        "import matplotlib.image as mpimg\n",
        "import numpy as np"
      ],
      "execution_count": 93,
      "outputs": []
    },
    {
      "cell_type": "code",
      "metadata": {
        "colab": {
          "base_uri": "https://localhost:8080/"
        },
        "id": "rAZdWcyBoWql",
        "outputId": "d2ec4042-75f3-4336-b3f6-813f52461ef1"
      },
      "source": [
        "print('Пример всех данных из заданного DICOM файла:\\n')\n",
        "# тут просто путь к DICOM файлу \n",
        "example_dicom = pydicom.dcmread('/content/CR000000.dcm')\n",
        "print(example_dicom)"
      ],
      "execution_count": 94,
      "outputs": [
        {
          "output_type": "stream",
          "name": "stdout",
          "text": [
            "Пример всех данных из заданного DICOM файла:\n",
            "\n",
            "Dataset.file_meta -------------------------------\n",
            "(0002, 0000) File Meta Information Group Length  UL: 200\n",
            "(0002, 0001) File Meta Information Version       OB: b'\\x00\\x01'\n",
            "(0002, 0002) Media Storage SOP Class UID         UI: Computed Radiography Image Storage\n",
            "(0002, 0003) Media Storage SOP Instance UID      UI: 1.2.276.0.7230010.3.1.4.186081398.5076.1564393902.11925\n",
            "(0002, 0010) Transfer Syntax UID                 UI: Explicit VR Little Endian\n",
            "(0002, 0012) Implementation Class UID            UI: 1.2.276.0.7230010.3.0.3.6.4\n",
            "(0002, 0013) Implementation Version Name         SH: 'OFFIS_DCMTK_364'\n",
            "-------------------------------------------------\n",
            "(0008, 0005) Specific Character Set              CS: 'ISO_IR 144'\n",
            "(0008, 0008) Image Type                          CS: ['DERIVED', 'PRIMARY']\n",
            "(0008, 0013) Instance Creation Time              TM: ''\n",
            "(0008, 0016) SOP Class UID                       UI: Computed Radiography Image Storage\n",
            "(0008, 0018) SOP Instance UID                    UI: 1.2.276.0.7230010.3.1.4.186081398.5076.1564393902.11925\n",
            "(0008, 0030) Study Time                          TM: ''\n",
            "(0008, 0033) Content Time                        TM: ''\n",
            "(0008, 0050) Accession Number                    SH: ''\n",
            "(0008, 0054) Retrieve AE Title                   AE: '5A5A'\n",
            "(0008, 0055) Station AE Title                    AE: '5A5A'\n",
            "(0008, 0060) Modality                            CS: 'CR'\n",
            "(0008, 0070) Manufacturer                        LO: 'JV HELPIC (MOSCOW)'\n",
            "(0008, 1090) Manufacturer's Model Name           LO: ''\n",
            "(0008, 9215)  Derivation Code Sequence  1 item(s) ---- \n",
            "   (0008, 0100) Code Value                          SH: '121327'\n",
            "   (0008, 0102) Coding Scheme Designator            SH: 'DCM'\n",
            "   (0008, 0104) Code Meaning                        LO: 'Full fidelity image'\n",
            "   ---------\n",
            "(0010, 0010) Patient's Name                      PN: 'Anonymized22'\n",
            "(0010, 0020) Patient ID                          LO: '5587986f-1b97-4ee2-ac1f-d421e20eb4fe'\n",
            "(0010, 0040) Patient's Sex                       CS: ''\n",
            "(0010, 1022) Patient's Body Mass Index           DS: 'TEXT'\n",
            "(0012, 0062) Patient Identity Removed            CS: 'YES'\n",
            "(0012, 0063) De-identification Method            LO: 'Orthanc 1.5.7 - PS 3.15-2017c Table E.1-1 Basic Profile'\n",
            "(0018, 0015) Body Part Examined                  CS: 'CHEST'\n",
            "(0018, 0022) Scan Options                        CS: ''\n",
            "(0018, 0060) KVP                                 DS: None\n",
            "(0018, 1020) Software Versions                   LO: ''\n",
            "(0018, 1110) Distance Source to Detector         DS: None\n",
            "(0018, 1150) Exposure Time                       IS: None\n",
            "(0018, 1151) X-Ray Tube Current                  IS: None\n",
            "(0018, 1152) Exposure                            IS: None\n",
            "(0018, 1160) Filter Type                         SH: ''\n",
            "(0018, 1190) Focal Spot(s)                       DS: '2.0'\n",
            "(0018, 1260) Plate Type                          SH: ''\n",
            "(0018, 1700) Collimator Shape                    CS: 'RECTANGULAR'\n",
            "(0018, 5101) View Position                       CS: ''\n",
            "(0018, 7004) Detector Type                       CS: ''\n",
            "(0020, 000d) Study Instance UID                  UI: 1.2.276.0.7230010.3.1.2.186081398.5076.1564393902.11923\n",
            "(0020, 000e) Series Instance UID                 UI: 1.2.276.0.7230010.3.1.3.186081398.5076.1564393902.11924\n",
            "(0020, 0010) Study ID                            SH: ''\n",
            "(0020, 0011) Series Number                       IS: '1'\n",
            "(0020, 0013) Instance Number                     IS: '1'\n",
            "(0020, 0020) Patient Orientation                 CS: ''\n",
            "(0028, 0002) Samples per Pixel                   US: 1\n",
            "(0028, 0004) Photometric Interpretation          CS: 'MONOCHROME1'\n",
            "(0028, 0010) Rows                                US: 950\n",
            "(0028, 0011) Columns                             US: 988\n",
            "(0028, 0030) Pixel Spacing                       DS: [0.385000, 0.385000]\n",
            "(0028, 0100) Bits Allocated                      US: 16\n",
            "(0028, 0101) Bits Stored                         US: 16\n",
            "(0028, 0102) High Bit                            US: 15\n",
            "(0028, 0103) Pixel Representation                US: 0\n",
            "(0028, 1050) Window Center                       DS: '5341.0'\n",
            "(0028, 1051) Window Width                        DS: '7526.0'\n",
            "(7fe0, 0010) Pixel Data                          OB: Array of 1877200 elements\n"
          ]
        }
      ]
    },
    {
      "cell_type": "code",
      "metadata": {
        "id": "y33CDDkHpd57"
      },
      "source": [
        "def get_tags_in_files(dicom_file_path='/content/CR000000.dcm', tag_file_path='/content/result.csv'):\n",
        "    \"\"\"\n",
        "    Для файла с .dcm расширением находит все теги, а затем сохраняет их в качестве csv файла\n",
        "    Args:\n",
        "        dicom_path (str): Путь до DICOM\n",
        "        tag_file_path (str): Путь до .csv с результатом\n",
        "    Returns:\n",
        "        dict: Словарь с выгруженными тегами\n",
        "    \"\"\"\n",
        "    # Создаём директорию для вывода\n",
        "    if not os.path.exists(os.path.dirname(tag_file_path)):\n",
        "        os.makedirs(os.path.dirname(tag_file_path))\n",
        "\n",
        "    # Получаем теги\n",
        "    tags_in_files = {}\n",
        "    dicom_file = pydicom.read_file(dicom_file_path)\n",
        "    for item in dicom_file:\n",
        "\n",
        "        if item.keyword not in tags_in_files:\n",
        "            group = \"0x%04x\" % item.tag.group\n",
        "            element = \"0x%04x\" % item.tag.element\n",
        "            tags_in_files[item.keyword] = group, element, item.keyword, item.name\n",
        "\n",
        "    # Сортируем теги\n",
        "    tags_in_files = OrderedDict(\n",
        "        sorted(tags_in_files.items(), key=(lambda k: (k[1][0], k[1][1])))\n",
        "    )\n",
        "\n",
        "    # Записываем теги в .csv файл\n",
        "    with open(tag_file_path, \"w\") as f:\n",
        "        writer = csv.writer(f)\n",
        "        writer.writerow([\"group\", \"element\", \"keyword\", \"name\"])\n",
        "        for item in tags_in_files:\n",
        "            writer.writerow(tags_in_files[item])\n",
        "\n",
        "    return tags_in_files"
      ],
      "execution_count": 95,
      "outputs": []
    },
    {
      "cell_type": "code",
      "source": [
        "# Построение изображения \n",
        "def get_image(dicom_file_path='/content/CR000000.dcm', result_image_path='/content/image.png'):\n",
        "    ds = pydicom.dcmread(dicom_file_path)\n",
        "    plt.axis('off')\n",
        "    plt.imshow(ds.pixel_array,cmap=plt.cm.gray)\n",
        "    plt.savefig(result_image_path)\n",
        "\n",
        "get_image()"
      ],
      "metadata": {
        "colab": {
          "base_uri": "https://localhost:8080/",
          "height": 248
        },
        "id": "kw1-ZBNROQMg",
        "outputId": "efb6423f-610f-478e-a5e2-d1cec34ba6b2"
      },
      "execution_count": 96,
      "outputs": [
        {
          "output_type": "display_data",
          "data": {
            "image/png": "[encoded data removed]",
            "text/plain": [
              "<Figure size 432x288 with 1 Axes>"
            ]
          },
          "metadata": {
            "needs_background": "light"
          }
        }
      ]
    },
    {
      "cell_type": "code",
      "metadata": {
        "id": "6gokfgc0r389"
      },
      "source": [
        "# get_tags_in_files('/content/CR000000.dcm', '/content/result.csv')\n",
        "# get_image('/content/CR000000.dcm', '/content/image.png')"
      ],
      "execution_count": 97,
      "outputs": []
    },
    {
      "cell_type": "markdown",
      "source": [
        "# Код, который отвечает за взаимодействие с пользователем"
      ],
      "metadata": {
        "id": "NY7Lz16pRJSs"
      }
    },
    {
      "cell_type": "code",
      "source": [
        "print('Если вы хотите использовать имена файлов по умолчанию, то оставьте следующие инпуты пустыми')\n",
        "dicom_file_path = input('Введите путь до dicom файла, с которым хотите работать')\n",
        "result_tag_file_path = input('Введите путь до файла, в который вы хотите сохранить список тегов')\n",
        "result_image_file_path = input('Введите путь до файла, в который вы хотите сохранить изображение')\n",
        "\n",
        "if (dicom_file_path == '' or result_tag_file_path == '' or result_image_file_path == ''):\n",
        "    get_tags_in_files()\n",
        "    get_image()\n",
        "else:\n",
        "    get_tags_in_files(dicom_file_path, result_tag_file_path)\n",
        "    get_image(dicom_file_path, result_image_file_path)"
      ],
      "metadata": {
        "colab": {
          "base_uri": "https://localhost:8080/",
          "height": 317
        },
        "id": "9SDjL6kZRIlR",
        "outputId": "87d84681-d737-4751-9cd2-8a56cd3aeb8f"
      },
      "execution_count": 98,
      "outputs": [
        {
          "name": "stdout",
          "output_type": "stream",
          "text": [
            "Если вы хотите использовать имена файлов по умолчанию, то оставьте следующие инпуты пустыми\n",
            "Введите путь до dicom файла, с которым хотите работать\n",
            "Введите путь до файла, в который вы хотите сохранить список тегов\n",
            "Введите путь до файла, в который вы хотите сохранить изображение\n"
          ]
        },
        {
          "output_type": "display_data",
          "data": {
            "image/png": "[encoded data removed]",
            "text/plain": [
              "<Figure size 432x288 with 1 Axes>"
            ]
          },
          "metadata": {
            "needs_background": "light"
          }
        }
      ]
    }
  ]
}